{
 "cells": [
  {
   "cell_type": "code",
   "execution_count": 1,
   "id": "e898a86a-a47f-4a6b-8407-3166a0e9154a",
   "metadata": {},
   "outputs": [],
   "source": [
    "import time\n",
    "import numpy as np\n",
    "import pandas as pd\n",
    "import seaborn as sns\n",
    "from pathlib import Path\n",
    "from IPython.display import Markdown\n",
    "import matplotlib.pyplot as plt\n",
    "\n",
    "from sklearn.impute import SimpleImputer\n",
    "from sklearn.compose import ColumnTransformer\n",
    "from scipy.spatial.distance import cdist\n",
    "    \n",
    "from sklearn.ensemble import RandomForestClassifier\n",
    "from sklearn.linear_model import LogisticRegression\n",
    "from sklearn.neighbors import KNeighborsClassifier\n",
    "from sklearn.neural_network import MLPClassifier\n",
    "from sklearn.tree import DecisionTreeClassifier\n",
    "from sklearn.naive_bayes import GaussianNB\n",
    "from sklearn.svm import SVC\n",
    "\n",
    "from sklearn.pipeline import (\n",
    "    Pipeline,\n",
    "    TransformerMixin\n",
    ")\n",
    "\n",
    "from sklearn.preprocessing import (\n",
    "    MinMaxScaler,\n",
    "    OneHotEncoder\n",
    ")\n",
    "\n",
    "from sklearn.metrics import (\n",
    "    accuracy_score,\n",
    "    f1_score,\n",
    "    roc_auc_score,\n",
    "    confusion_matrix,\n",
    "    ConfusionMatrixDisplay\n",
    ")\n",
    "\n",
    "from sklearn.model_selection import (\n",
    "    train_test_split,\n",
    "    cross_validate,\n",
    "    StratifiedKFold\n",
    ")\n",
    "\n",
    "from sklearn.feature_selection import SelectKBest, mutual_info_classif"
   ]
  },
  {
   "cell_type": "code",
   "execution_count": 2,
   "id": "962e1d37-a178-4dd3-8de9-161ca0c5ccb9",
   "metadata": {},
   "outputs": [],
   "source": [
    "data_path = Path('../data/raw/data.xls')\n",
    "dict_path = Path('../data/external/dicionario.csv')"
   ]
  },
  {
   "cell_type": "code",
   "execution_count": 3,
   "id": "5b5baa0e-3e5e-4bb1-aa14-b75ec997c577",
   "metadata": {},
   "outputs": [
    {
     "data": {
      "text/markdown": [
       "### Conjunto de dados"
      ],
      "text/plain": [
       "<IPython.core.display.Markdown object>"
      ]
     },
     "metadata": {},
     "output_type": "display_data"
    },
    {
     "data": {
      "text/html": [
       "<div>\n",
       "<style scoped>\n",
       "    .dataframe tbody tr th:only-of-type {\n",
       "        vertical-align: middle;\n",
       "    }\n",
       "\n",
       "    .dataframe tbody tr th {\n",
       "        vertical-align: top;\n",
       "    }\n",
       "\n",
       "    .dataframe thead th {\n",
       "        text-align: right;\n",
       "    }\n",
       "</style>\n",
       "<table border=\"1\" class=\"dataframe\">\n",
       "  <thead>\n",
       "    <tr style=\"text-align: right;\">\n",
       "      <th></th>\n",
       "      <th>ID</th>\n",
       "      <th>LIMIT_BAL</th>\n",
       "      <th>SEX</th>\n",
       "      <th>EDUCATION</th>\n",
       "      <th>MARRIAGE</th>\n",
       "      <th>AGE</th>\n",
       "      <th>PAY_0</th>\n",
       "      <th>PAY_2</th>\n",
       "      <th>PAY_3</th>\n",
       "      <th>PAY_4</th>\n",
       "      <th>...</th>\n",
       "      <th>BILL_AMT4</th>\n",
       "      <th>BILL_AMT5</th>\n",
       "      <th>BILL_AMT6</th>\n",
       "      <th>PAY_AMT1</th>\n",
       "      <th>PAY_AMT2</th>\n",
       "      <th>PAY_AMT3</th>\n",
       "      <th>PAY_AMT4</th>\n",
       "      <th>PAY_AMT5</th>\n",
       "      <th>PAY_AMT6</th>\n",
       "      <th>DEFAULT_PAY</th>\n",
       "    </tr>\n",
       "  </thead>\n",
       "  <tbody>\n",
       "    <tr>\n",
       "      <th>0</th>\n",
       "      <td>1</td>\n",
       "      <td>20000</td>\n",
       "      <td>2</td>\n",
       "      <td>2</td>\n",
       "      <td>1</td>\n",
       "      <td>24</td>\n",
       "      <td>2</td>\n",
       "      <td>2</td>\n",
       "      <td>-1</td>\n",
       "      <td>-1</td>\n",
       "      <td>...</td>\n",
       "      <td>0</td>\n",
       "      <td>0</td>\n",
       "      <td>0</td>\n",
       "      <td>0</td>\n",
       "      <td>689</td>\n",
       "      <td>0</td>\n",
       "      <td>0</td>\n",
       "      <td>0</td>\n",
       "      <td>0</td>\n",
       "      <td>1</td>\n",
       "    </tr>\n",
       "    <tr>\n",
       "      <th>1</th>\n",
       "      <td>2</td>\n",
       "      <td>120000</td>\n",
       "      <td>2</td>\n",
       "      <td>2</td>\n",
       "      <td>2</td>\n",
       "      <td>26</td>\n",
       "      <td>-1</td>\n",
       "      <td>2</td>\n",
       "      <td>0</td>\n",
       "      <td>0</td>\n",
       "      <td>...</td>\n",
       "      <td>3272</td>\n",
       "      <td>3455</td>\n",
       "      <td>3261</td>\n",
       "      <td>0</td>\n",
       "      <td>1000</td>\n",
       "      <td>1000</td>\n",
       "      <td>1000</td>\n",
       "      <td>0</td>\n",
       "      <td>2000</td>\n",
       "      <td>1</td>\n",
       "    </tr>\n",
       "    <tr>\n",
       "      <th>2</th>\n",
       "      <td>3</td>\n",
       "      <td>90000</td>\n",
       "      <td>2</td>\n",
       "      <td>2</td>\n",
       "      <td>2</td>\n",
       "      <td>34</td>\n",
       "      <td>0</td>\n",
       "      <td>0</td>\n",
       "      <td>0</td>\n",
       "      <td>0</td>\n",
       "      <td>...</td>\n",
       "      <td>14331</td>\n",
       "      <td>14948</td>\n",
       "      <td>15549</td>\n",
       "      <td>1518</td>\n",
       "      <td>1500</td>\n",
       "      <td>1000</td>\n",
       "      <td>1000</td>\n",
       "      <td>1000</td>\n",
       "      <td>5000</td>\n",
       "      <td>0</td>\n",
       "    </tr>\n",
       "    <tr>\n",
       "      <th>3</th>\n",
       "      <td>4</td>\n",
       "      <td>50000</td>\n",
       "      <td>2</td>\n",
       "      <td>2</td>\n",
       "      <td>1</td>\n",
       "      <td>37</td>\n",
       "      <td>0</td>\n",
       "      <td>0</td>\n",
       "      <td>0</td>\n",
       "      <td>0</td>\n",
       "      <td>...</td>\n",
       "      <td>28314</td>\n",
       "      <td>28959</td>\n",
       "      <td>29547</td>\n",
       "      <td>2000</td>\n",
       "      <td>2019</td>\n",
       "      <td>1200</td>\n",
       "      <td>1100</td>\n",
       "      <td>1069</td>\n",
       "      <td>1000</td>\n",
       "      <td>0</td>\n",
       "    </tr>\n",
       "    <tr>\n",
       "      <th>4</th>\n",
       "      <td>5</td>\n",
       "      <td>50000</td>\n",
       "      <td>1</td>\n",
       "      <td>2</td>\n",
       "      <td>1</td>\n",
       "      <td>57</td>\n",
       "      <td>-1</td>\n",
       "      <td>0</td>\n",
       "      <td>-1</td>\n",
       "      <td>0</td>\n",
       "      <td>...</td>\n",
       "      <td>20940</td>\n",
       "      <td>19146</td>\n",
       "      <td>19131</td>\n",
       "      <td>2000</td>\n",
       "      <td>36681</td>\n",
       "      <td>10000</td>\n",
       "      <td>9000</td>\n",
       "      <td>689</td>\n",
       "      <td>679</td>\n",
       "      <td>0</td>\n",
       "    </tr>\n",
       "  </tbody>\n",
       "</table>\n",
       "<p>5 rows × 25 columns</p>\n",
       "</div>"
      ],
      "text/plain": [
       "   ID  LIMIT_BAL  SEX  EDUCATION  MARRIAGE  AGE  PAY_0  PAY_2  PAY_3  PAY_4  \\\n",
       "0   1      20000    2          2         1   24      2      2     -1     -1   \n",
       "1   2     120000    2          2         2   26     -1      2      0      0   \n",
       "2   3      90000    2          2         2   34      0      0      0      0   \n",
       "3   4      50000    2          2         1   37      0      0      0      0   \n",
       "4   5      50000    1          2         1   57     -1      0     -1      0   \n",
       "\n",
       "   ...  BILL_AMT4  BILL_AMT5  BILL_AMT6  PAY_AMT1  PAY_AMT2  PAY_AMT3  \\\n",
       "0  ...          0          0          0         0       689         0   \n",
       "1  ...       3272       3455       3261         0      1000      1000   \n",
       "2  ...      14331      14948      15549      1518      1500      1000   \n",
       "3  ...      28314      28959      29547      2000      2019      1200   \n",
       "4  ...      20940      19146      19131      2000     36681     10000   \n",
       "\n",
       "   PAY_AMT4  PAY_AMT5  PAY_AMT6  DEFAULT_PAY  \n",
       "0         0         0         0            1  \n",
       "1      1000         0      2000            1  \n",
       "2      1000      1000      5000            0  \n",
       "3      1100      1069      1000            0  \n",
       "4      9000       689       679            0  \n",
       "\n",
       "[5 rows x 25 columns]"
      ]
     },
     "metadata": {},
     "output_type": "display_data"
    },
    {
     "data": {
      "text/markdown": [
       "### Dicionário de dados"
      ],
      "text/plain": [
       "<IPython.core.display.Markdown object>"
      ]
     },
     "metadata": {},
     "output_type": "display_data"
    },
    {
     "data": {
      "text/html": [
       "<div>\n",
       "<style scoped>\n",
       "    .dataframe tbody tr th:only-of-type {\n",
       "        vertical-align: middle;\n",
       "    }\n",
       "\n",
       "    .dataframe tbody tr th {\n",
       "        vertical-align: top;\n",
       "    }\n",
       "\n",
       "    .dataframe thead th {\n",
       "        text-align: right;\n",
       "    }\n",
       "</style>\n",
       "<table border=\"1\" class=\"dataframe\">\n",
       "  <thead>\n",
       "    <tr style=\"text-align: right;\">\n",
       "      <th></th>\n",
       "      <th>variavel</th>\n",
       "      <th>significado</th>\n",
       "      <th>tipo</th>\n",
       "    </tr>\n",
       "  </thead>\n",
       "  <tbody>\n",
       "    <tr>\n",
       "      <th>0</th>\n",
       "      <td>ID</td>\n",
       "      <td>Identificador unico</td>\n",
       "      <td>continuo</td>\n",
       "    </tr>\n",
       "    <tr>\n",
       "      <th>1</th>\n",
       "      <td>LIMIT_BAL</td>\n",
       "      <td>Valor do crédito concedido (Novo Dolár Taiwanês )</td>\n",
       "      <td>continuo</td>\n",
       "    </tr>\n",
       "    <tr>\n",
       "      <th>2</th>\n",
       "      <td>SEX</td>\n",
       "      <td>Genero (1= masculino; 2= feminino)</td>\n",
       "      <td>nominal</td>\n",
       "    </tr>\n",
       "    <tr>\n",
       "      <th>3</th>\n",
       "      <td>EDUCATION</td>\n",
       "      <td>Educação Nivel de Escolaridade (1 = pós-gradua...</td>\n",
       "      <td>nominal</td>\n",
       "    </tr>\n",
       "    <tr>\n",
       "      <th>4</th>\n",
       "      <td>MARRIAGE</td>\n",
       "      <td>Estado civil (1 = casado; 2 = solteiro; 3 = ou...</td>\n",
       "      <td>nominal</td>\n",
       "    </tr>\n",
       "  </tbody>\n",
       "</table>\n",
       "</div>"
      ],
      "text/plain": [
       "    variavel                                        significado      tipo\n",
       "0         ID                                Identificador unico  continuo\n",
       "1  LIMIT_BAL  Valor do crédito concedido (Novo Dolár Taiwanês )  continuo\n",
       "2        SEX                 Genero (1= masculino; 2= feminino)   nominal\n",
       "3  EDUCATION  Educação Nivel de Escolaridade (1 = pós-gradua...   nominal\n",
       "4   MARRIAGE  Estado civil (1 = casado; 2 = solteiro; 3 = ou...   nominal"
      ]
     },
     "metadata": {},
     "output_type": "display_data"
    }
   ],
   "source": [
    "df = (\n",
    "    pd\n",
    "    .read_excel(data_path, header=1)\n",
    "    .rename(columns={\n",
    "        'default payment next month': 'DEFAULT_PAY'\n",
    "    })\n",
    ")\n",
    "display(Markdown('### Conjunto de dados'))\n",
    "display(df.head())\n",
    "\n",
    "\n",
    "df_dict = (\n",
    "    pd\n",
    "    .read_csv(dict_path)\n",
    "    .replace({\n",
    "        'default payment next month': 'DEFAULT_PAY'\n",
    "    })\n",
    ")\n",
    "display(Markdown('### Dicionário de dados'))\n",
    "display(df_dict.head())"
   ]
  },
  {
   "cell_type": "code",
   "execution_count": 4,
   "id": "26cc5082-09e4-4ced-8b64-ada98fd113e1",
   "metadata": {},
   "outputs": [],
   "source": [
    "target_column = 'DEFAULT_PAY'\n",
    "useless_columns = ['ID', target_column]\n",
    "continuous_columns = (\n",
    "    df_dict\n",
    "    .query('tipo == \"continuo\" and variavel not in @useless_columns')\n",
    "    .variavel\n",
    "    .to_list()\n",
    ")\n",
    "nominal_columns = (\n",
    "    df_dict\n",
    "    .query('tipo == \"nominal\" and variavel not in @useless_columns')\n",
    "    .variavel\n",
    "    .to_list()\n",
    ")"
   ]
  },
  {
   "cell_type": "code",
   "execution_count": 5,
   "id": "07a4b808-d3ff-4aa9-a32c-c7c8cfeb23d0",
   "metadata": {},
   "outputs": [],
   "source": [
    "class OutlierExtractor(TransformerMixin):\n",
    "    def __init__(self, columns, threshold=3, **kwargs):\n",
    "        self.threshold = threshold\n",
    "        self.columns = columns\n",
    "        self.kwargs = kwargs\n",
    "\n",
    "    def transform(self, X, y=None):\n",
    "        X_ = np.asarray(X[self.columns])\n",
    "        outliers_zscore = np.abs(cdist(self.avg[np.newaxis], X_) / self.std)[0]\n",
    "        if y is not None:\n",
    "            y = np.asarray(y)\n",
    "            return (\n",
    "                X[outliers_zscore <= self.threshold],\n",
    "                y[outliers_zscore <= self.threshold]\n",
    "            )\n",
    "        \n",
    "        return X[outliers_zscore <= self.threshold]\n",
    "    \n",
    "    def fit(self, X, y=None):\n",
    "        X = np.asarray(X[self.columns])\n",
    "        self.std = X.std()\n",
    "        self.avg = X.mean(axis=0)\n",
    "        return self"
   ]
  },
  {
   "cell_type": "code",
   "execution_count": 6,
   "id": "33b5596c-592b-476e-a852-850d619399bf",
   "metadata": {},
   "outputs": [],
   "source": [
    "continuous_preprocessor = Pipeline(steps=[\n",
    "    # ('outlier_extractor', OutlierExtractor(columns = continuous_columns)), # Tratamento de dados discrepantes\n",
    "    ('missing_data', SimpleImputer(strategy='mean')), # Tratamento de dados faltantes\n",
    "    ('feature_selection', SelectKBest(score_func=mutual_info_classif, k=10)), # Seleção de variáveis\n",
    "    ('normalization', MinMaxScaler()) # Normalização\n",
    "])\n",
    "\n",
    "nominal_preprocessor = Pipeline(steps=[\n",
    "    # Tratamento de dados discrepantes\n",
    "    ('missing_data', SimpleImputer(strategy='most_frequent')), # Tratamento de dados faltantes\n",
    "    ('encoder', OneHotEncoder(sparse=False)), # Codificação de variáveis\n",
    "    # não aplicar seleção apenas 3 variaveis nominais SEX, EDUCATION e MARRIAGE # Seleção de variáveis\n",
    "    #('normalization', MinMaxScaler())# Normalização \n",
    "])\n",
    "\n",
    "preprocessor = ColumnTransformer(transformers=[\n",
    "    ('continuous', continuous_preprocessor, continuous_columns),\n",
    "    ('nominal', nominal_preprocessor, nominal_columns)\n",
    "])"
   ]
  },
  {
   "cell_type": "code",
   "execution_count": 7,
   "id": "b80fdd8f-19cb-4e56-a9fd-ccece148f38e",
   "metadata": {},
   "outputs": [],
   "source": [
    "models = [\n",
    "    (\"logistic regression\", LogisticRegression(max_iter=1000)),\n",
    "    (\"support vector machine \", SVC(max_iter=5000)),\n",
    "    (\"k nearest neighbors\", KNeighborsClassifier()),\n",
    "    (\"decision tree\", DecisionTreeClassifier()),\n",
    "    (\"random forest\", RandomForestClassifier()),\n",
    "    (\"mlp\", MLPClassifier(max_iter=5000)), \n",
    "    (\"gaussian naive bayes\", GaussianNB())\n",
    "]"
   ]
  },
  {
   "cell_type": "code",
   "execution_count": 8,
   "id": "a3b5f615-6d95-4944-b59c-3e598440ed46",
   "metadata": {},
   "outputs": [
    {
     "name": "stderr",
     "output_type": "stream",
     "text": [
      "/home/alle/workspace/atlantico/risk-prediction/.venv/lib/python3.8/site-packages/sklearn/impute/_base.py:54: FutureWarning: Unlike other reduction functions (e.g. `skew`, `kurtosis`), the default behavior of `mode` typically preserves the axis it acts along. In SciPy 1.11.0, this behavior will change: the default value of `keepdims` will become False, the `axis` over which the statistic is taken will be eliminated, and the value None will no longer be accepted. Set `keepdims` to True or False to avoid this warning.\n",
      "  mode = stats.mode(array)\n"
     ]
    }
   ],
   "source": [
    "X = df.drop(columns=useless_columns, axis=1)\n",
    "y = df[target_column]\n",
    "X = pd.DataFrame(preprocessor.fit_transform(X, y), columns = preprocessor.get_feature_names_out())\n",
    "\n",
    "\n",
    "X_train, X_both, y_train, y_both = train_test_split(X, y, test_size = 0.5)\n",
    "X_test, X_val, y_test, y_val = train_test_split(X_both, y_both, test_size = 0.5)\n"
   ]
  },
  {
   "cell_type": "code",
   "execution_count": 9,
   "id": "5be737a8",
   "metadata": {},
   "outputs": [
    {
     "data": {
      "text/plain": [
       "0    11658\n",
       "1     3342\n",
       "Name: DEFAULT_PAY, dtype: int64"
      ]
     },
     "execution_count": 9,
     "metadata": {},
     "output_type": "execute_result"
    }
   ],
   "source": [
    "y_train.value_counts()"
   ]
  },
  {
   "cell_type": "code",
   "execution_count": 10,
   "id": "a240c089",
   "metadata": {},
   "outputs": [],
   "source": [
    "def undersampling(x, y):\n",
    "    x = pd.DataFrame(x)\n",
    "    y = pd.DataFrame(y)\n",
    "    x['label'] = y\n",
    "    x_0 = x[x['label'] == 0]\n",
    "    x_1 = x[x['label'] == 1]\n",
    "    x_0 = x_0.sample(n = x_1.shape[0])\n",
    "    x = pd.concat([x_0, x_1], ignore_index=True, axis=0).sample(frac=1)\n",
    "    return x.drop('label', axis=1), x['label']"
   ]
  },
  {
   "cell_type": "code",
   "execution_count": 11,
   "id": "a86605f3",
   "metadata": {},
   "outputs": [],
   "source": [
    "X_train2, y_train2 = undersampling(X_train, y_train)"
   ]
  },
  {
   "cell_type": "code",
   "execution_count": 12,
   "id": "48e0b4ef",
   "metadata": {},
   "outputs": [
    {
     "data": {
      "text/plain": [
       "1    3342\n",
       "0    3342\n",
       "Name: label, dtype: int64"
      ]
     },
     "execution_count": 12,
     "metadata": {},
     "output_type": "execute_result"
    }
   ],
   "source": [
    "y_train2.value_counts()"
   ]
  },
  {
   "cell_type": "code",
   "execution_count": 13,
   "id": "6edd9142",
   "metadata": {},
   "outputs": [],
   "source": [
    "def conf_matrix(y_test, predicted):\n",
    "    cm = confusion_matrix(y_test, predicted)\n",
    "    disp = ConfusionMatrixDisplay(\n",
    "        confusion_matrix=cm\n",
    "    )\n",
    "    disp.plot()\n",
    "    plt.show()"
   ]
  },
  {
   "cell_type": "code",
   "execution_count": 14,
   "id": "ba241dca-71b4-4ce3-b655-4c41b66c0390",
   "metadata": {},
   "outputs": [],
   "source": [
    "def train_model(x,y,X_val, y_val, n_splits=10, final_results = {}):\n",
    "    for model_name, model_obj in models:\n",
    "        results = cross_validate(\n",
    "            model_obj,\n",
    "            X=x,\n",
    "            y=y,\n",
    "            scoring=['accuracy', 'f1', 'recall', 'precision'],\n",
    "            cv=StratifiedKFold(n_splits=n_splits, shuffle=True, random_state=42),\n",
    "            n_jobs=-1\n",
    "        )\n",
    "        results[\"name\"] = [model_name] * n_splits\n",
    "\n",
    "        clf = model_obj.fit(x, y)\n",
    "        y_pred = model_obj.predict(X_val)\n",
    "        \n",
    "        print(\"=======================================\")\n",
    "        print(model_name)\n",
    "        conf_matrix(y_val, y_pred)\n",
    "        \n",
    "        if final_results:\n",
    "            for key, value in results.items():\n",
    "                final_results[key] = np.append(final_results[key], value)\n",
    "        else:\n",
    "            final_results = results\n",
    "    return final_results\n",
    "    "
   ]
  },
  {
   "cell_type": "code",
   "execution_count": 15,
   "id": "610d2252",
   "metadata": {},
   "outputs": [
    {
     "name": "stdout",
     "output_type": "stream",
     "text": [
      "=======================================\n",
      "logistic regression\n"
     ]
    },
    {
     "data": {
      "image/png": "[encoded data removed]",
      "text/plain": [
       "<Figure size 432x288 with 2 Axes>"
      ]
     },
     "metadata": {
      "needs_background": "light"
     },
     "output_type": "display_data"
    },
    {
     "name": "stderr",
     "output_type": "stream",
     "text": [
      "/home/alle/workspace/atlantico/risk-prediction/.venv/lib/python3.8/site-packages/sklearn/svm/_base.py:301: ConvergenceWarning: Solver terminated early (max_iter=5000).  Consider pre-processing your data with StandardScaler or MinMaxScaler.\n",
      "  warnings.warn(\n"
     ]
    },
    {
     "name": "stdout",
     "output_type": "stream",
     "text": [
      "=======================================\n",
      "support vector machine \n"
     ]
    },
    {
     "data": {
      "image/png": "[encoded data removed]",
      "text/plain": [
       "<Figure size 432x288 with 2 Axes>"
      ]
     },
     "metadata": {
      "needs_background": "light"
     },
     "output_type": "display_data"
    },
    {
     "name": "stderr",
     "output_type": "stream",
     "text": [
      "/home/alle/workspace/atlantico/risk-prediction/.venv/lib/python3.8/site-packages/sklearn/neighbors/_classification.py:237: FutureWarning: Unlike other reduction functions (e.g. `skew`, `kurtosis`), the default behavior of `mode` typically preserves the axis it acts along. In SciPy 1.11.0, this behavior will change: the default value of `keepdims` will become False, the `axis` over which the statistic is taken will be eliminated, and the value None will no longer be accepted. Set `keepdims` to True or False to avoid this warning.\n",
      "  mode, _ = stats.mode(_y[neigh_ind, k], axis=1)\n"
     ]
    },
    {
     "name": "stdout",
     "output_type": "stream",
     "text": [
      "=======================================\n",
      "k nearest neighbors\n"
     ]
    },
    {
     "data": {
      "image/png": "[encoded data removed]",
      "text/plain": [
       "<Figure size 432x288 with 2 Axes>"
      ]
     },
     "metadata": {
      "needs_background": "light"
     },
     "output_type": "display_data"
    },
    {
     "name": "stdout",
     "output_type": "stream",
     "text": [
      "=======================================\n",
      "decision tree\n"
     ]
    },
    {
     "data": {
      "image/png": "[encoded data removed]",
      "text/plain": [
       "<Figure size 432x288 with 2 Axes>"
      ]
     },
     "metadata": {
      "needs_background": "light"
     },
     "output_type": "display_data"
    },
    {
     "name": "stdout",
     "output_type": "stream",
     "text": [
      "=======================================\n",
      "random forest\n"
     ]
    },
    {
     "data": {
      "image/png": "[encoded data removed]",
      "text/plain": [
       "<Figure size 432x288 with 2 Axes>"
      ]
     },
     "metadata": {
      "needs_background": "light"
     },
     "output_type": "display_data"
    },
    {
     "name": "stdout",
     "output_type": "stream",
     "text": [
      "=======================================\n",
      "mlp\n"
     ]
    },
    {
     "data": {
      "image/png": "[encoded data removed]",
      "text/plain": [
       "<Figure size 432x288 with 2 Axes>"
      ]
     },
     "metadata": {
      "needs_background": "light"
     },
     "output_type": "display_data"
    },
    {
     "name": "stdout",
     "output_type": "stream",
     "text": [
      "=======================================\n",
      "gaussian naive bayes\n"
     ]
    },
    {
     "data": {
      "image/png": "[encoded data removed]",
      "text/plain": [
       "<Figure size 432x288 with 2 Axes>"
      ]
     },
     "metadata": {
      "needs_background": "light"
     },
     "output_type": "display_data"
    }
   ],
   "source": [
    "final_results = train_model(X_train.drop('label', axis=1),y_train,X_val,y_val) ## Dados desbalanceados para a classe 0"
   ]
  },
  {
   "cell_type": "code",
   "execution_count": 16,
   "id": "888d6b3e",
   "metadata": {},
   "outputs": [
    {
     "name": "stdout",
     "output_type": "stream",
     "text": [
      "=======================================\n",
      "logistic regression\n"
     ]
    },
    {
     "data": {
      "image/png": "[encoded data removed]",
      "text/plain": [
       "<Figure size 432x288 with 2 Axes>"
      ]
     },
     "metadata": {
      "needs_background": "light"
     },
     "output_type": "display_data"
    },
    {
     "name": "stdout",
     "output_type": "stream",
     "text": [
      "=======================================\n",
      "support vector machine \n"
     ]
    },
    {
     "data": {
      "image/png": "[encoded data removed]",
      "text/plain": [
       "<Figure size 432x288 with 2 Axes>"
      ]
     },
     "metadata": {
      "needs_background": "light"
     },
     "output_type": "display_data"
    },
    {
     "name": "stderr",
     "output_type": "stream",
     "text": [
      "/home/alle/workspace/atlantico/risk-prediction/.venv/lib/python3.8/site-packages/sklearn/neighbors/_classification.py:237: FutureWarning: Unlike other reduction functions (e.g. `skew`, `kurtosis`), the default behavior of `mode` typically preserves the axis it acts along. In SciPy 1.11.0, this behavior will change: the default value of `keepdims` will become False, the `axis` over which the statistic is taken will be eliminated, and the value None will no longer be accepted. Set `keepdims` to True or False to avoid this warning.\n",
      "  mode, _ = stats.mode(_y[neigh_ind, k], axis=1)\n"
     ]
    },
    {
     "name": "stdout",
     "output_type": "stream",
     "text": [
      "=======================================\n",
      "k nearest neighbors\n"
     ]
    },
    {
     "data": {
      "image/png": "[encoded data removed]",
      "text/plain": [
       "<Figure size 432x288 with 2 Axes>"
      ]
     },
     "metadata": {
      "needs_background": "light"
     },
     "output_type": "display_data"
    },
    {
     "name": "stdout",
     "output_type": "stream",
     "text": [
      "=======================================\n",
      "decision tree\n"
     ]
    },
    {
     "data": {
      "image/png": "[encoded data removed]",
      "text/plain": [
       "<Figure size 432x288 with 2 Axes>"
      ]
     },
     "metadata": {
      "needs_background": "light"
     },
     "output_type": "display_data"
    },
    {
     "name": "stdout",
     "output_type": "stream",
     "text": [
      "=======================================\n",
      "random forest\n"
     ]
    },
    {
     "data": {
      "image/png": "[encoded data removed]",
      "text/plain": [
       "<Figure size 432x288 with 2 Axes>"
      ]
     },
     "metadata": {
      "needs_background": "light"
     },
     "output_type": "display_data"
    },
    {
     "name": "stdout",
     "output_type": "stream",
     "text": [
      "=======================================\n",
      "mlp\n"
     ]
    },
    {
     "data": {
      "image/png": "[encoded data removed]",
      "text/plain": [
       "<Figure size 432x288 with 2 Axes>"
      ]
     },
     "metadata": {
      "needs_background": "light"
     },
     "output_type": "display_data"
    },
    {
     "name": "stdout",
     "output_type": "stream",
     "text": [
      "=======================================\n",
      "gaussian naive bayes\n"
     ]
    },
    {
     "data": {
      "image/png": "[encoded data removed]",
      "text/plain": [
       "<Figure size 432x288 with 2 Axes>"
      ]
     },
     "metadata": {
      "needs_background": "light"
     },
     "output_type": "display_data"
    }
   ],
   "source": [
    "final_results2 = train_model(X_train2,y_train2,X_val,y_val) ## Dados balanceados"
   ]
  },
  {
   "cell_type": "code",
   "execution_count": 17,
   "id": "bdb1d4fa-43cc-4f9d-b37e-385cf814bce3",
   "metadata": {},
   "outputs": [
    {
     "data": {
      "text/html": [
       "<div>\n",
       "<style scoped>\n",
       "    .dataframe tbody tr th:only-of-type {\n",
       "        vertical-align: middle;\n",
       "    }\n",
       "\n",
       "    .dataframe tbody tr th {\n",
       "        vertical-align: top;\n",
       "    }\n",
       "\n",
       "    .dataframe thead tr th {\n",
       "        text-align: left;\n",
       "    }\n",
       "\n",
       "    .dataframe thead tr:last-of-type th {\n",
       "        text-align: right;\n",
       "    }\n",
       "</style>\n",
       "<table border=\"1\" class=\"dataframe\">\n",
       "  <thead>\n",
       "    <tr>\n",
       "      <th></th>\n",
       "      <th colspan=\"2\" halign=\"left\">fit_time</th>\n",
       "      <th colspan=\"2\" halign=\"left\">score_time</th>\n",
       "      <th colspan=\"2\" halign=\"left\">test_accuracy</th>\n",
       "      <th colspan=\"2\" halign=\"left\">test_f1</th>\n",
       "      <th colspan=\"2\" halign=\"left\">test_recall</th>\n",
       "      <th colspan=\"2\" halign=\"left\">test_precision</th>\n",
       "    </tr>\n",
       "    <tr>\n",
       "      <th></th>\n",
       "      <th>mean</th>\n",
       "      <th>std</th>\n",
       "      <th>mean</th>\n",
       "      <th>std</th>\n",
       "      <th>mean</th>\n",
       "      <th>std</th>\n",
       "      <th>mean</th>\n",
       "      <th>std</th>\n",
       "      <th>mean</th>\n",
       "      <th>std</th>\n",
       "      <th>mean</th>\n",
       "      <th>std</th>\n",
       "    </tr>\n",
       "    <tr>\n",
       "      <th>name</th>\n",
       "      <th></th>\n",
       "      <th></th>\n",
       "      <th></th>\n",
       "      <th></th>\n",
       "      <th></th>\n",
       "      <th></th>\n",
       "      <th></th>\n",
       "      <th></th>\n",
       "      <th></th>\n",
       "      <th></th>\n",
       "      <th></th>\n",
       "      <th></th>\n",
       "    </tr>\n",
       "  </thead>\n",
       "  <tbody>\n",
       "    <tr>\n",
       "      <th>decision tree</th>\n",
       "      <td>0.237805</td>\n",
       "      <td>0.006137</td>\n",
       "      <td>0.012930</td>\n",
       "      <td>0.000659</td>\n",
       "      <td>0.731600</td>\n",
       "      <td>0.010189</td>\n",
       "      <td>0.399706</td>\n",
       "      <td>0.023897</td>\n",
       "      <td>0.401273</td>\n",
       "      <td>0.027322</td>\n",
       "      <td>0.398344</td>\n",
       "      <td>0.022155</td>\n",
       "    </tr>\n",
       "    <tr>\n",
       "      <th>gaussian naive bayes</th>\n",
       "      <td>0.020177</td>\n",
       "      <td>0.002366</td>\n",
       "      <td>0.015476</td>\n",
       "      <td>0.001726</td>\n",
       "      <td>0.268867</td>\n",
       "      <td>0.007813</td>\n",
       "      <td>0.372855</td>\n",
       "      <td>0.003832</td>\n",
       "      <td>0.975463</td>\n",
       "      <td>0.010450</td>\n",
       "      <td>0.230479</td>\n",
       "      <td>0.002530</td>\n",
       "    </tr>\n",
       "    <tr>\n",
       "      <th>k nearest neighbors</th>\n",
       "      <td>0.009058</td>\n",
       "      <td>0.002453</td>\n",
       "      <td>0.460772</td>\n",
       "      <td>0.026075</td>\n",
       "      <td>0.797933</td>\n",
       "      <td>0.008500</td>\n",
       "      <td>0.444789</td>\n",
       "      <td>0.020862</td>\n",
       "      <td>0.363269</td>\n",
       "      <td>0.018090</td>\n",
       "      <td>0.574015</td>\n",
       "      <td>0.030451</td>\n",
       "    </tr>\n",
       "    <tr>\n",
       "      <th>logistic regression</th>\n",
       "      <td>0.458001</td>\n",
       "      <td>0.030714</td>\n",
       "      <td>0.013147</td>\n",
       "      <td>0.000713</td>\n",
       "      <td>0.807600</td>\n",
       "      <td>0.004901</td>\n",
       "      <td>0.342606</td>\n",
       "      <td>0.025344</td>\n",
       "      <td>0.225607</td>\n",
       "      <td>0.023256</td>\n",
       "      <td>0.720916</td>\n",
       "      <td>0.048127</td>\n",
       "    </tr>\n",
       "    <tr>\n",
       "      <th>mlp</th>\n",
       "      <td>27.723254</td>\n",
       "      <td>5.922767</td>\n",
       "      <td>0.017809</td>\n",
       "      <td>0.003144</td>\n",
       "      <td>0.815800</td>\n",
       "      <td>0.010366</td>\n",
       "      <td>0.471883</td>\n",
       "      <td>0.041271</td>\n",
       "      <td>0.371033</td>\n",
       "      <td>0.045124</td>\n",
       "      <td>0.653098</td>\n",
       "      <td>0.041278</td>\n",
       "    </tr>\n",
       "    <tr>\n",
       "      <th>random forest</th>\n",
       "      <td>3.540704</td>\n",
       "      <td>0.251022</td>\n",
       "      <td>0.108823</td>\n",
       "      <td>0.005017</td>\n",
       "      <td>0.811600</td>\n",
       "      <td>0.008995</td>\n",
       "      <td>0.472145</td>\n",
       "      <td>0.022880</td>\n",
       "      <td>0.378220</td>\n",
       "      <td>0.020663</td>\n",
       "      <td>0.629431</td>\n",
       "      <td>0.037617</td>\n",
       "    </tr>\n",
       "    <tr>\n",
       "      <th>support vector machine</th>\n",
       "      <td>14.368792</td>\n",
       "      <td>0.545329</td>\n",
       "      <td>1.138527</td>\n",
       "      <td>0.028703</td>\n",
       "      <td>0.806467</td>\n",
       "      <td>0.006741</td>\n",
       "      <td>0.363058</td>\n",
       "      <td>0.016161</td>\n",
       "      <td>0.247748</td>\n",
       "      <td>0.016174</td>\n",
       "      <td>0.686311</td>\n",
       "      <td>0.059381</td>\n",
       "    </tr>\n",
       "  </tbody>\n",
       "</table>\n",
       "</div>"
      ],
      "text/plain": [
       "                          fit_time           score_time            \\\n",
       "                              mean       std       mean       std   \n",
       "name                                                                \n",
       "decision tree             0.237805  0.006137   0.012930  0.000659   \n",
       "gaussian naive bayes      0.020177  0.002366   0.015476  0.001726   \n",
       "k nearest neighbors       0.009058  0.002453   0.460772  0.026075   \n",
       "logistic regression       0.458001  0.030714   0.013147  0.000713   \n",
       "mlp                      27.723254  5.922767   0.017809  0.003144   \n",
       "random forest             3.540704  0.251022   0.108823  0.005017   \n",
       "support vector machine   14.368792  0.545329   1.138527  0.028703   \n",
       "\n",
       "                        test_accuracy             test_f1            \\\n",
       "                                 mean       std      mean       std   \n",
       "name                                                                  \n",
       "decision tree                0.731600  0.010189  0.399706  0.023897   \n",
       "gaussian naive bayes         0.268867  0.007813  0.372855  0.003832   \n",
       "k nearest neighbors          0.797933  0.008500  0.444789  0.020862   \n",
       "logistic regression          0.807600  0.004901  0.342606  0.025344   \n",
       "mlp                          0.815800  0.010366  0.471883  0.041271   \n",
       "random forest                0.811600  0.008995  0.472145  0.022880   \n",
       "support vector machine       0.806467  0.006741  0.363058  0.016161   \n",
       "\n",
       "                        test_recall           test_precision            \n",
       "                               mean       std           mean       std  \n",
       "name                                                                    \n",
       "decision tree              0.401273  0.027322       0.398344  0.022155  \n",
       "gaussian naive bayes       0.975463  0.010450       0.230479  0.002530  \n",
       "k nearest neighbors        0.363269  0.018090       0.574015  0.030451  \n",
       "logistic regression        0.225607  0.023256       0.720916  0.048127  \n",
       "mlp                        0.371033  0.045124       0.653098  0.041278  \n",
       "random forest              0.378220  0.020663       0.629431  0.037617  \n",
       "support vector machine     0.247748  0.016174       0.686311  0.059381  "
      ]
     },
     "execution_count": 17,
     "metadata": {},
     "output_type": "execute_result"
    }
   ],
   "source": [
    "pd.DataFrame(final_results).groupby('name').agg([np.mean, np.std])"
   ]
  },
  {
   "cell_type": "code",
   "execution_count": 18,
   "id": "6fc80ef8",
   "metadata": {},
   "outputs": [
    {
     "data": {
      "text/html": [
       "<div>\n",
       "<style scoped>\n",
       "    .dataframe tbody tr th:only-of-type {\n",
       "        vertical-align: middle;\n",
       "    }\n",
       "\n",
       "    .dataframe tbody tr th {\n",
       "        vertical-align: top;\n",
       "    }\n",
       "\n",
       "    .dataframe thead tr th {\n",
       "        text-align: left;\n",
       "    }\n",
       "\n",
       "    .dataframe thead tr:last-of-type th {\n",
       "        text-align: right;\n",
       "    }\n",
       "</style>\n",
       "<table border=\"1\" class=\"dataframe\">\n",
       "  <thead>\n",
       "    <tr>\n",
       "      <th></th>\n",
       "      <th colspan=\"2\" halign=\"left\">fit_time</th>\n",
       "      <th colspan=\"2\" halign=\"left\">score_time</th>\n",
       "      <th colspan=\"2\" halign=\"left\">test_accuracy</th>\n",
       "      <th colspan=\"2\" halign=\"left\">test_f1</th>\n",
       "      <th colspan=\"2\" halign=\"left\">test_recall</th>\n",
       "      <th colspan=\"2\" halign=\"left\">test_precision</th>\n",
       "    </tr>\n",
       "    <tr>\n",
       "      <th></th>\n",
       "      <th>mean</th>\n",
       "      <th>std</th>\n",
       "      <th>mean</th>\n",
       "      <th>std</th>\n",
       "      <th>mean</th>\n",
       "      <th>std</th>\n",
       "      <th>mean</th>\n",
       "      <th>std</th>\n",
       "      <th>mean</th>\n",
       "      <th>std</th>\n",
       "      <th>mean</th>\n",
       "      <th>std</th>\n",
       "    </tr>\n",
       "    <tr>\n",
       "      <th>name</th>\n",
       "      <th></th>\n",
       "      <th></th>\n",
       "      <th></th>\n",
       "      <th></th>\n",
       "      <th></th>\n",
       "      <th></th>\n",
       "      <th></th>\n",
       "      <th></th>\n",
       "      <th></th>\n",
       "      <th></th>\n",
       "      <th></th>\n",
       "      <th></th>\n",
       "    </tr>\n",
       "  </thead>\n",
       "  <tbody>\n",
       "    <tr>\n",
       "      <th>decision tree</th>\n",
       "      <td>0.085179</td>\n",
       "      <td>0.005077</td>\n",
       "      <td>0.011472</td>\n",
       "      <td>0.001148</td>\n",
       "      <td>0.618639</td>\n",
       "      <td>0.022870</td>\n",
       "      <td>0.619794</td>\n",
       "      <td>0.019999</td>\n",
       "      <td>0.621472</td>\n",
       "      <td>0.020592</td>\n",
       "      <td>0.618499</td>\n",
       "      <td>0.024975</td>\n",
       "    </tr>\n",
       "    <tr>\n",
       "      <th>gaussian naive bayes</th>\n",
       "      <td>0.011898</td>\n",
       "      <td>0.001333</td>\n",
       "      <td>0.011704</td>\n",
       "      <td>0.000808</td>\n",
       "      <td>0.526033</td>\n",
       "      <td>0.008402</td>\n",
       "      <td>0.671713</td>\n",
       "      <td>0.004547</td>\n",
       "      <td>0.970071</td>\n",
       "      <td>0.027117</td>\n",
       "      <td>0.513933</td>\n",
       "      <td>0.005246</td>\n",
       "    </tr>\n",
       "    <tr>\n",
       "      <th>k nearest neighbors</th>\n",
       "      <td>0.006042</td>\n",
       "      <td>0.000959</td>\n",
       "      <td>0.123831</td>\n",
       "      <td>0.004772</td>\n",
       "      <td>0.666674</td>\n",
       "      <td>0.021053</td>\n",
       "      <td>0.658684</td>\n",
       "      <td>0.022679</td>\n",
       "      <td>0.643637</td>\n",
       "      <td>0.028824</td>\n",
       "      <td>0.674941</td>\n",
       "      <td>0.022737</td>\n",
       "    </tr>\n",
       "    <tr>\n",
       "      <th>logistic regression</th>\n",
       "      <td>0.210138</td>\n",
       "      <td>0.015735</td>\n",
       "      <td>0.012171</td>\n",
       "      <td>0.002041</td>\n",
       "      <td>0.680731</td>\n",
       "      <td>0.017067</td>\n",
       "      <td>0.648092</td>\n",
       "      <td>0.020214</td>\n",
       "      <td>0.588256</td>\n",
       "      <td>0.023145</td>\n",
       "      <td>0.721911</td>\n",
       "      <td>0.022021</td>\n",
       "    </tr>\n",
       "    <tr>\n",
       "      <th>mlp</th>\n",
       "      <td>14.907597</td>\n",
       "      <td>2.548737</td>\n",
       "      <td>0.011942</td>\n",
       "      <td>0.000307</td>\n",
       "      <td>0.700183</td>\n",
       "      <td>0.014960</td>\n",
       "      <td>0.665535</td>\n",
       "      <td>0.018049</td>\n",
       "      <td>0.596938</td>\n",
       "      <td>0.023957</td>\n",
       "      <td>0.752933</td>\n",
       "      <td>0.023865</td>\n",
       "    </tr>\n",
       "    <tr>\n",
       "      <th>random forest</th>\n",
       "      <td>1.507133</td>\n",
       "      <td>0.026924</td>\n",
       "      <td>0.067160</td>\n",
       "      <td>0.005601</td>\n",
       "      <td>0.691657</td>\n",
       "      <td>0.019712</td>\n",
       "      <td>0.675911</td>\n",
       "      <td>0.021290</td>\n",
       "      <td>0.643321</td>\n",
       "      <td>0.025676</td>\n",
       "      <td>0.712444</td>\n",
       "      <td>0.023425</td>\n",
       "    </tr>\n",
       "    <tr>\n",
       "      <th>support vector machine</th>\n",
       "      <td>4.147006</td>\n",
       "      <td>0.207021</td>\n",
       "      <td>0.412542</td>\n",
       "      <td>0.020704</td>\n",
       "      <td>0.691807</td>\n",
       "      <td>0.014962</td>\n",
       "      <td>0.628133</td>\n",
       "      <td>0.018269</td>\n",
       "      <td>0.520646</td>\n",
       "      <td>0.017084</td>\n",
       "      <td>0.791941</td>\n",
       "      <td>0.025575</td>\n",
       "    </tr>\n",
       "  </tbody>\n",
       "</table>\n",
       "</div>"
      ],
      "text/plain": [
       "                          fit_time           score_time            \\\n",
       "                              mean       std       mean       std   \n",
       "name                                                                \n",
       "decision tree             0.085179  0.005077   0.011472  0.001148   \n",
       "gaussian naive bayes      0.011898  0.001333   0.011704  0.000808   \n",
       "k nearest neighbors       0.006042  0.000959   0.123831  0.004772   \n",
       "logistic regression       0.210138  0.015735   0.012171  0.002041   \n",
       "mlp                      14.907597  2.548737   0.011942  0.000307   \n",
       "random forest             1.507133  0.026924   0.067160  0.005601   \n",
       "support vector machine    4.147006  0.207021   0.412542  0.020704   \n",
       "\n",
       "                        test_accuracy             test_f1            \\\n",
       "                                 mean       std      mean       std   \n",
       "name                                                                  \n",
       "decision tree                0.618639  0.022870  0.619794  0.019999   \n",
       "gaussian naive bayes         0.526033  0.008402  0.671713  0.004547   \n",
       "k nearest neighbors          0.666674  0.021053  0.658684  0.022679   \n",
       "logistic regression          0.680731  0.017067  0.648092  0.020214   \n",
       "mlp                          0.700183  0.014960  0.665535  0.018049   \n",
       "random forest                0.691657  0.019712  0.675911  0.021290   \n",
       "support vector machine       0.691807  0.014962  0.628133  0.018269   \n",
       "\n",
       "                        test_recall           test_precision            \n",
       "                               mean       std           mean       std  \n",
       "name                                                                    \n",
       "decision tree              0.621472  0.020592       0.618499  0.024975  \n",
       "gaussian naive bayes       0.970071  0.027117       0.513933  0.005246  \n",
       "k nearest neighbors        0.643637  0.028824       0.674941  0.022737  \n",
       "logistic regression        0.588256  0.023145       0.721911  0.022021  \n",
       "mlp                        0.596938  0.023957       0.752933  0.023865  \n",
       "random forest              0.643321  0.025676       0.712444  0.023425  \n",
       "support vector machine     0.520646  0.017084       0.791941  0.025575  "
      ]
     },
     "execution_count": 18,
     "metadata": {},
     "output_type": "execute_result"
    }
   ],
   "source": [
    "pd.DataFrame(final_results2).groupby('name').agg([np.mean, np.std])"
   ]
  },
  {
   "cell_type": "code",
   "execution_count": null,
   "id": "4380b25c",
   "metadata": {},
   "outputs": [],
   "source": []
  }
 ],
 "metadata": {
  "kernelspec": {
   "display_name": "Python 3 (ipykernel)",
   "language": "python",
   "name": "python3"
  },
  "language_info": {
   "codemirror_mode": {
    "name": "ipython",
    "version": 3
   },
   "file_extension": ".py",
   "mimetype": "text/x-python",
   "name": "python",
   "nbconvert_exporter": "python",
   "pygments_lexer": "ipython3",
   "version": "3.8.10"
  }
 },
 "nbformat": 4,
 "nbformat_minor": 5
}
